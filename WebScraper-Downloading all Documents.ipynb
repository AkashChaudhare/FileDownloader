{
 "cells": [
  {
   "cell_type": "code",
   "execution_count": 1,
   "id": "2ab5c633",
   "metadata": {},
   "outputs": [],
   "source": [
    "from bs4 import BeautifulSoup as bbb\n",
    "import requests\n",
    "import os\n",
    "source=requests.get('http://www.123seminarsonly.com/Seminar-Reports/006/Brain-Computer-Interface.html').text\n",
    "soup=bbb(source,'lxml')"
   ]
  },
  {
   "cell_type": "code",
   "execution_count": 2,
   "id": "89c51433",
   "metadata": {},
   "outputs": [
    {
     "name": "stdout",
     "output_type": "stream",
     "text": [
      "http://www.123seminarsonly.com/Seminar-Reports/006/14649377-Brain-Computer-Interface.doc\n",
      "http://www.123seminarsonly.com/Seminar-Reports/006/15117879-Brain-Computer-Interface.pdf\n",
      "http://www.123seminarsonly.com/Seminar-Reports/006/15118045-Brain-Computer-Interface.pdf\n",
      "http://www.123seminarsonly.com/Seminar-Reports/006/22119974-Brain-Computer-Interface-ppt.pdf\n",
      "http://www.123seminarsonly.com/Seminar-Reports/006/22593592-Brain-Computer-Interface.pdf\n",
      "http://www.123seminarsonly.com/Seminar-Reports/006/22600057-Brain-Computer-Interface-2.pdf\n",
      "http://www.123seminarsonly.com/Seminar-Reports/006/28635391-Brain-Computer-Interface.doc\n",
      "http://www.123seminarsonly.com/Seminar-Reports/006/28708676-Brain-Computer-Interface.pdf\n",
      "http://www.123seminarsonly.com/Seminar-Reports/006/28893805-Brain-Computer-Interface-1.pdf\n",
      "http://www.123seminarsonly.com/Seminar-Reports/006/29031834-1-Brain-Computer-Interface-Doc.pdf\n",
      "http://www.123seminarsonly.com/Seminar-Reports/006/29733243-Brain-Computer-Interface.pdf\n",
      "http://www.123seminarsonly.com/Seminar-Reports/006/30857842-Scrib-Brain-Computer-Interface.pdf\n",
      "http://www.123seminarsonly.com/Seminar-Reports/006/37347563-Brain-Computer-Interface.pdf\n",
      "http://www.123seminarsonly.com/Seminar-Reports/006/37717283-A-Brain-Computer-Interface.pdf\n",
      "http://www.123seminarsonly.com/Seminar-Reports/006/38119448-Brain-Computer-Interface-mpra.pdf\n",
      "http://www.123seminarsonly.com/Seminar-Reports/006/40227299-Brain-Computer-Interface.pdf\n",
      "http://www.123seminarsonly.com/Seminar-Reports/006/45891026-Brain-Computer-Interface-Seminar-Report.docx\n",
      "http://www.123seminarsonly.com/Seminar-Reports/006/46577112-Brain-Computer-Interface.pdf\n",
      "http://www.123seminarsonly.com/Seminar-Reports/006/51154200-Brain-Computer-Interface-BCI-report.pdf\n",
      "http://www.123seminarsonly.com/Seminar-Reports/006/51203910-Brain-Computer-Interface.pdf\n",
      "http://www.123seminarsonly.com/Seminar-Reports/006/51536687-Brain-Computer-Interface.docx\n",
      "http://www.123seminarsonly.com/Seminar-Reports/006/51716844-Brain-Computer-Interface-ppt.pdf\n",
      "http://www.123seminarsonly.com/Seminar-Reports/006/53721949-Brain-Computer-Interface.doc\n",
      "http://www.123seminarsonly.com/Seminar-Reports/006/56516304-Brain-Computer-Interface.pdf\n",
      "http://www.123seminarsonly.com/Seminar-Reports/006/59222420-10-Brain-Computer-Interface.doc\n",
      "http://www.123seminarsonly.com/Seminar-Reports/006/61381739-Brain-Computer-Interface.doc\n",
      "http://www.123seminarsonly.com/Seminar-Reports/006/Brain-Computer Interface.doc\n",
      "http://www.123seminarsonly.com/Seminar-Reports/006/64701198-Brain-Computer-Interface.pdf\n",
      "http://www.123seminarsonly.com/Seminar-Reports/006/63668353-Brain-Computer-Interface.doc\n",
      "http://www.123seminarsonly.com/Seminar-Reports/006/63117767-Brain-Computer-Interface.pdf\n"
     ]
    }
   ],
   "source": [
    "urls = []\n",
    "for link in soup.find_all('a'):\n",
    "    if 'Brain Computer Interface'in link.text:\n",
    "        if '.pdf' in link.get('href') or '.doc' in link.get('href') or '.docx' in link.get('href'):\n",
    "            urls.append('http://www.123seminarsonly.com/Seminar-Reports/006/'+link.get('href'))\n",
    "            print('http://www.123seminarsonly.com/Seminar-Reports/006/'+link.get('href'))"
   ]
  },
  {
   "cell_type": "code",
   "execution_count": 3,
   "id": "99174a50",
   "metadata": {},
   "outputs": [
    {
     "name": "stdout",
     "output_type": "stream",
     "text": [
      "30\n"
     ]
    }
   ],
   "source": [
    "print(len(urls))"
   ]
  },
  {
   "cell_type": "code",
   "execution_count": 4,
   "id": "e8c23b49",
   "metadata": {},
   "outputs": [],
   "source": [
    "urls[-4]='http://www.123seminarsonly.com/Seminar-Reports/006/Brain-Computer-Interface.doc'"
   ]
  },
  {
   "cell_type": "code",
   "execution_count": 6,
   "id": "5da2541a",
   "metadata": {},
   "outputs": [],
   "source": [
    "os.getcwd()\n",
    "os.mkdir('Seminar3')\n",
    "os.chdir(r'C:\\Users\\shivsaivishwa\\Desktop\\python programs\\Seminar3')"
   ]
  },
  {
   "cell_type": "code",
   "execution_count": 7,
   "id": "c2f79c69",
   "metadata": {},
   "outputs": [
    {
     "name": "stdout",
     "output_type": "stream",
     "text": [
      "\n",
      "Downloading doc file:  1\n",
      "Doc file  1  downloaded\n",
      "****************************\n",
      "Downloading PDF file:  2\n",
      "PDF file  2  downloaded\n",
      "****************************\n",
      "Downloading PDF file:  3\n",
      "PDF file  3  downloaded\n",
      "****************************\n",
      "Downloading PDF file:  4\n",
      "PDF file  4  downloaded\n",
      "****************************\n",
      "Downloading PDF file:  5\n",
      "PDF file  5  downloaded\n",
      "****************************\n",
      "Downloading PDF file:  6\n",
      "PDF file  6  downloaded\n",
      "****************************\n",
      "\n",
      "Downloading doc file:  7\n",
      "Doc file  7  downloaded\n",
      "****************************\n",
      "Downloading PDF file:  8\n",
      "PDF file  8  downloaded\n",
      "****************************\n",
      "Downloading PDF file:  9\n",
      "PDF file  9  downloaded\n",
      "****************************\n",
      "Downloading PDF file:  10\n",
      "PDF file  10  downloaded\n",
      "****************************\n",
      "Downloading PDF file:  11\n",
      "PDF file  11  downloaded\n",
      "****************************\n",
      "Downloading PDF file:  12\n",
      "PDF file  12  downloaded\n",
      "****************************\n",
      "Downloading PDF file:  13\n",
      "PDF file  13  downloaded\n",
      "****************************\n",
      "Downloading PDF file:  14\n",
      "PDF file  14  downloaded\n",
      "****************************\n",
      "Downloading PDF file:  15\n",
      "PDF file  15  downloaded\n",
      "****************************\n",
      "Downloading PDF file:  16\n",
      "PDF file  16  downloaded\n",
      "****************************\n",
      "\n",
      "Downloading doc file:  17\n",
      "Doc file  17  downloaded\n",
      "****************************\n",
      "Downloading PDF file:  18\n",
      "PDF file  18  downloaded\n",
      "****************************\n",
      "Downloading PDF file:  19\n",
      "PDF file  19  downloaded\n",
      "****************************\n",
      "Downloading PDF file:  20\n",
      "PDF file  20  downloaded\n",
      "****************************\n",
      "\n",
      "Downloading doc file:  21\n",
      "Doc file  21  downloaded\n",
      "****************************\n",
      "Downloading PDF file:  22\n",
      "PDF file  22  downloaded\n",
      "****************************\n",
      "\n",
      "Downloading doc file:  23\n",
      "Doc file  23  downloaded\n",
      "****************************\n",
      "Downloading PDF file:  24\n",
      "PDF file  24  downloaded\n",
      "****************************\n",
      "\n",
      "Downloading doc file:  25\n",
      "Doc file  25  downloaded\n",
      "****************************\n",
      "\n",
      "Downloading doc file:  26\n",
      "Doc file  26  downloaded\n",
      "****************************\n",
      "\n",
      "Downloading doc file:  27\n",
      "Doc file  27  downloaded\n",
      "****************************\n",
      "Downloading PDF file:  28\n",
      "PDF file  28  downloaded\n",
      "****************************\n",
      "\n",
      "Downloading doc file:  29\n",
      "Doc file  29  downloaded\n",
      "****************************\n",
      "Downloading PDF file:  30\n",
      "PDF file  30  downloaded\n",
      "****************************\n",
      "30 files downloaded\n"
     ]
    }
   ],
   "source": [
    "i = 0\n",
    "pdfcount=0\n",
    "doccount=0\n",
    "for url in urls:\n",
    "    if ('.pdf' in url):\n",
    "        i += 1\n",
    "        pdfcount+=1\n",
    "        print(\"Downloading PDF file: \", i) \n",
    "        response = requests.get(url)\n",
    "  \n",
    "        # Write content in pdf file\n",
    "        pdf = open(\"pdf\"+str(pdfcount)+\".pdf\", 'wb')\n",
    "        pdf.write(response.content)\n",
    "        pdf.close()\n",
    "        print(\"PDF file \", i, \" downloaded\")\n",
    "        print('****************************')\n",
    "    else:\n",
    "        i+=1\n",
    "        doccount+=1\n",
    "        response = requests.get(url)\n",
    "        doc = open(\"doc\"+str(doccount)+\".docx\", 'wb')\n",
    "        doc.write(response.content)\n",
    "        doc.close()\n",
    "        print()\n",
    "        print(\"Downloading doc file: \", i)\n",
    "        print(\"Doc file \", i, \" downloaded\")\n",
    "        print('****************************')\n",
    "        \n",
    "        \n",
    "print(f\"{i} files downloaded\")"
   ]
  },
  {
   "cell_type": "code",
   "execution_count": null,
   "id": "322d628e",
   "metadata": {},
   "outputs": [],
   "source": []
  }
 ],
 "metadata": {
  "kernelspec": {
   "display_name": "Python 3 (ipykernel)",
   "language": "python",
   "name": "python3"
  },
  "language_info": {
   "codemirror_mode": {
    "name": "ipython",
    "version": 3
   },
   "file_extension": ".py",
   "mimetype": "text/x-python",
   "name": "python",
   "nbconvert_exporter": "python",
   "pygments_lexer": "ipython3",
   "version": "3.9.7"
  }
 },
 "nbformat": 4,
 "nbformat_minor": 5
}
